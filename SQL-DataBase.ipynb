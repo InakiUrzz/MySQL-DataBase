{
 "cells": [
  {
   "cell_type": "markdown",
   "metadata": {},
   "source": [
    "# MySQL DataBase\n",
    "## Exercise 1: \n",
    "Create a simple relational database using MySQL(https://www.mysql.com/) and connect it to Python.\n",
    "___"
   ]
  },
  {
   "cell_type": "code",
   "execution_count": 21,
   "metadata": {},
   "outputs": [],
   "source": [
    "#importing libraries\n",
    "import mysql.connector\n",
    "from mysql.connector import Error\n",
    "import pandas as pd\n",
    "import pymysql\n",
    "import seaborn as sns\n",
    "import matplotlib.pyplot as plt\n",
    "import warnings\n",
    "warnings.filterwarnings(\"ignore\")\n"
   ]
  },
  {
   "cell_type": "markdown",
   "metadata": {},
   "source": [
    "### We are going to use this Entity-Relationship Diagram to create our DataBase in MySQL\n",
    "![Diagrama Entidad Relación 2](DER2.png \"DER2 imagen\")"
   ]
  },
  {
   "cell_type": "markdown",
   "metadata": {},
   "source": []
  },
  {
   "cell_type": "markdown",
   "metadata": {},
   "source": [
    "## Command Query Lines:"
   ]
  },
  {
   "cell_type": "markdown",
   "metadata": {},
   "source": [
    "### Creating DataBase:\n",
    "\n",
    "CREATE database example;\n",
    "\n",
    "___"
   ]
  },
  {
   "cell_type": "markdown",
   "metadata": {},
   "source": [
    "### Use DataBase \"example\":\n",
    "\n",
    "USE example;\n",
    "\n",
    "___"
   ]
  },
  {
   "cell_type": "markdown",
   "metadata": {},
   "source": [
    "### Create Table Clientes:\n",
    "\n",
    "CREATE TABLE clientes (\n",
    "\n",
    "id_cliente varchar(255),\n",
    "\n",
    "nombre varchar (50),\n",
    "\n",
    "direccion varchar (50),\n",
    "\n",
    "telefono varchar (50),\n",
    "\n",
    "mail varchar(80),\n",
    "\n",
    "PRIMARY KEY (id_cliente)\n",
    "\n",
    "); \n",
    "\n",
    "___"
   ]
  },
  {
   "cell_type": "markdown",
   "metadata": {},
   "source": [
    "### Create Table \"establecimiento\":\n",
    "\n",
    "CREATE TABLE establecimiento (\n",
    "\n",
    "id_establecimiento varchar(255),\n",
    "\n",
    "nombre varchar (50),\n",
    "\n",
    "area varchar (50),\n",
    "\n",
    "localizacion varchar(80),\n",
    "\n",
    "\n",
    "PRIMARY KEY (id_establecimiento)\n",
    "); "
   ]
  },
  {
   "cell_type": "markdown",
   "metadata": {},
   "source": [
    "___"
   ]
  },
  {
   "cell_type": "markdown",
   "metadata": {},
   "source": [
    "### Create Table \"Trabajador\":\n",
    "\n",
    "CREATE TABLE trabajadores (\n",
    "\n",
    "id_trabajador varchar(255),\n",
    "\n",
    "nombre varchar (50),\n",
    "\n",
    "id_establecimiento varchar (50),\n",
    "\n",
    "localizacion varchar(80),\n",
    "\n",
    "PRIMARY KEY (id_trabajador)\n",
    "\n",
    "); "
   ]
  },
  {
   "cell_type": "markdown",
   "metadata": {},
   "source": [
    "___"
   ]
  },
  {
   "cell_type": "markdown",
   "metadata": {},
   "source": [
    "### Create Table \"Ordenes\":\n",
    "\n",
    "CREATE TABLE ordenes (\n",
    "\n",
    "id_orden varchar(255),\n",
    "\n",
    "id_producto varchar (50),\n",
    "\n",
    "id_establecimiento varchar (50),\n",
    "\n",
    "id_trabajador varchar (50),\n",
    "\n",
    "id_tipo_producto varchar (50),\n",
    "\n",
    "id_cliente varchar (50),\n",
    "\n",
    "fecha date,\n",
    "\n",
    "cantidad int,\n",
    "\n",
    "PRIMARY KEY (id_orden)\n",
    "\n",
    "); "
   ]
  },
  {
   "cell_type": "markdown",
   "metadata": {},
   "source": [
    "___"
   ]
  },
  {
   "cell_type": "markdown",
   "metadata": {},
   "source": [
    "### Create Table \"Producto\":\n",
    "\n",
    "CREATE TABLE producto (\n",
    "\n",
    "id_producto varchar(255),\n",
    "\n",
    "nombre varchar (50),\n",
    "\n",
    "descripcion varchar (50),\n",
    "\n",
    "id_tipo_producto varchar (50),\n",
    "\n",
    "precio varchar (50),\n",
    "\n",
    "PRIMARY KEY (id_producto)\n",
    "\n",
    "); "
   ]
  },
  {
   "cell_type": "markdown",
   "metadata": {},
   "source": [
    "___"
   ]
  },
  {
   "cell_type": "markdown",
   "metadata": {},
   "source": [
    "### Create Table \"Tipo Producto\":\n",
    "\n",
    "CREATE TABLE tipo_producto (\n",
    "\n",
    "id_tipo_producto varchar(255),\n",
    "\n",
    "id_producto varchar (50),\n",
    "\n",
    "descripcion varchar (350),\n",
    "\n",
    "PRIMARY KEY (id_tipo_producto)\n",
    "\n",
    "); "
   ]
  },
  {
   "cell_type": "markdown",
   "metadata": {},
   "source": [
    "### Insert some values in each table:"
   ]
  },
  {
   "cell_type": "markdown",
   "metadata": {},
   "source": [
    "INSERT INTO `clientes` (`id_cliente`,`nombre`,`direccion`,`telefono`,`mail`)\n",
    "\n",
    "VALUES\n",
    "\n",
    "  (\"XSL25OQP3RF\",\"Neville Donaldson\",\"Ap #682-7065 Aliquam Avenue\",\"1-871-701-1875\",\"libero.est@outlook.com\"),\n",
    "\n",
    "  (\"DIY33HKV5BJ\",\"Galvin Delacruz\",\"Ap #207-3964 Ligula. Rd.\",\"(586) 761-3630\",\"congue.turpis@aol.edu\"),\n",
    "\n",
    "  (\"ZRD59XNU1VN\",\"Kelsey Larsen\",\"Ap #692-5045 Blandit Av.\",\"1-986-351-2361\",\"cursus.vestibulum@hotmail.couk\"),\n",
    "\n",
    "  (\"YNS75IPP1NF\",\"Emmanuel Boone\",\"8752 Malesuada St.\",\"1-451-942-9662\",\"quam.quis@yahoo.couk\"),\n",
    "\n",
    "  (\"XCW84HIO7IT\",\"Micah Stewart\",\"4091 Mauris St.\",\"(155) 751-0338\",\"fusce.aliquet@hotmail.net\");\n",
    "\n",
    "___\n",
    "  \n",
    "  INSERT INTO `establecimiento` (`id_establecimiento`,`nombre`,`area`,`localizacion`)\n",
    "\n",
    "VALUES\n",
    "\n",
    "  (\"EFE52UPF5QA\",\"Amet Faucibus Ut PC\",\"Iowa\",\"Ap #845-8261 Tempor Ave\"),\n",
    "\n",
    "  (\"XWJ89VNY8LX\",\"Nisi Magna Limited\",\"Wyoming\",\"539-6014 Orci Av.\"),\n",
    "\n",
    "  (\"XBV12KWI2UG\",\"Auctor Inc.\",\"Tabasco\",\"Ap #434-5980 Luctus St.\"),\n",
    "\n",
    "  (\"YSF61YRJ8KP\",\"Euismod PC\",\"Kujawsko-pomorskie\",\"Ap #119-7283 Est Road\"),\n",
    "\n",
    "  (\"WBW59BSR4RP\",\"Non Dui PC\",\"Imo\",\"P.O. Box 731, 5900 Facilisis Ave\");\n",
    "\n",
    "___\n",
    "  \n",
    "  INSERT INTO `trabajadores` (`id_trabajador`,`nombre`,`id_establecimiento`,`localizacion`)\n",
    "\n",
    "VALUES\n",
    "\n",
    "  (\"HKJ56UMR6VA\",\"Zenaida Farmer\",\"HRP39MKO3IF\",\"East Region\"),\n",
    "\n",
    "  (\"MBN28QMT8CV\",\"Madeson Gonzalez\",\"MXO29XES2UQ\",\"Maharastra\"),\n",
    "\n",
    "  (\"SIX33HHH5EC\",\"Lane Alvarez\",\"GHW82HHB4VV\",\"Chernihiv oblast\"),\n",
    "\n",
    "  (\"DMD30ROC5MM\",\"Brett Mccullough\",\"PSW45EVX9OK\",\"Pernambuco\"),\n",
    "\n",
    "  (\"YUG27TUI4YW\",\"Lael Everett\",\"MUD43RYV2JR\",\"Quebec\");\n",
    "\n",
    "___\n",
    "  \n",
    "INSERT INTO `ordenes` (`id_orden`,`id_producto`,`id_establecimiento`,`id_trabajador`,`id_tipo_producto`,`id_cliente`,`fecha`,`cantidad`)\n",
    "\n",
    "VALUES\n",
    "\n",
    "  (\"VDI13MHE2S\",4800,1,\"OTO82WR0UU\",\"YCY4C9QC\",9501,\"2021-6-11\",34),\n",
    "\n",
    "  (\"YXJ4VNT5G\",1844,2,\"GHT28N3TK\",\"SIX59MJM5NT\",6398,\"2021-6-11\",7),\n",
    "\n",
    "  (\"CNI42RL3QV\",9674,3,\"OWU05VWU2QW\",\"ZN90HYJ5PC\",9232,\"2021-6-11\",15),\n",
    "\n",
    "  (\"EIU54W5JP\",6338,4,\"TRWBZK5AN\",\"WBS52HI3RX\",9089,\"2021-6-11\",16),\n",
    "\n",
    "  (\"DBE97OF2WC\",7248,5,\"IGTMA1UE\",\"PTO23XIH2YJ\",3772,\"2021-6-11\",28);\n",
    "\n",
    "___\n",
    "  \n",
    "  INSERT INTO `producto` (`id_producto`,`nombre`,`descripcion`,`id_tipo_producto`,`precio`)\n",
    "\n",
    "VALUES\n",
    "\n",
    "  (\"331\",\"Manitoba\",\"Sed nulla\",\"MFK15SOF3UM\",\"724\"),\n",
    "\n",
    "  (\"775\",\"South Chungcheong\",\"augue porttitor interdum. Sed auctor odio a purus.\",\"YRR55XOF3LU\",\"177\"),\n",
    "\n",
    "  (\"184\",\"Pskov Oblast\",\"tempor arcu. Vestibulum\",\"YOX68GBR8DY\",\"169\"),\n",
    "\n",
    "  (\"463\",\"Limón\",\"ipsum dolor\",\"PFH56VTY1OQ\",\"323\"),\n",
    "\n",
    "  (\"766\",\"Valle d'Aosta\",\"dui lectus rutrum urna,\",\"LCN86ODP4BR\",\"825\");\n",
    "\n",
    "___\n",
    "  \n",
    "  INSERT INTO `tipo_producto` (`id_tipo_producto`,`id_producto`,`descripcion`)\n",
    "\n",
    "VALUES\n",
    "\n",
    "  (\"331\",8744,\"Sed nulla\"),\n",
    "\n",
    "  (\"775\",4195,\"augue porttitor interdum. Sed auctor odio a purus.\"),\n",
    "\n",
    "  (\"184\",7364,\"tempor arcu. Vestibulum\"),\n",
    "\n",
    "  (\"463\",6528,\"ipsum dolor\"),\n",
    "  \n",
    "  (\"766\",3955,\"dui lectus rutrum urna,\");"
   ]
  },
  {
   "cell_type": "markdown",
   "metadata": {},
   "source": [
    "___\n",
    "\n",
    "### Lets conect to our database using python:"
   ]
  },
  {
   "cell_type": "code",
   "execution_count": 32,
   "metadata": {},
   "outputs": [
    {
     "name": "stdout",
     "output_type": "stream",
     "text": [
      "<mysql.connector.connection_cext.CMySQLConnection object at 0x126400160>\n"
     ]
    }
   ],
   "source": [
    "#Lets connect to our database example:\n",
    "database = mysql.connector.connect(\n",
    "     host=\"localhost\",\n",
    "     user=\"root\",\n",
    "     password=\"****\",\n",
    "     database='example')\n",
    "\n",
    "print(database)\n",
    "\n",
    "cursor = database.cursor(buffered=True)"
   ]
  },
  {
   "cell_type": "markdown",
   "metadata": {},
   "source": [
    "___"
   ]
  },
  {
   "cell_type": "markdown",
   "metadata": {},
   "source": [
    "### Exercise 2:\n",
    "Show that you can load some simple queries to a Pandas Dataframe."
   ]
  },
  {
   "cell_type": "code",
   "execution_count": 34,
   "metadata": {},
   "outputs": [
    {
     "data": {
      "text/html": [
       "<div>\n",
       "<style scoped>\n",
       "    .dataframe tbody tr th:only-of-type {\n",
       "        vertical-align: middle;\n",
       "    }\n",
       "\n",
       "    .dataframe tbody tr th {\n",
       "        vertical-align: top;\n",
       "    }\n",
       "\n",
       "    .dataframe thead th {\n",
       "        text-align: right;\n",
       "    }\n",
       "</style>\n",
       "<table border=\"1\" class=\"dataframe\">\n",
       "  <thead>\n",
       "    <tr style=\"text-align: right;\">\n",
       "      <th></th>\n",
       "      <th>id_establecimiento</th>\n",
       "      <th>nombre</th>\n",
       "      <th>area</th>\n",
       "      <th>localizacion</th>\n",
       "    </tr>\n",
       "  </thead>\n",
       "  <tbody>\n",
       "    <tr>\n",
       "      <th>0</th>\n",
       "      <td>EFE52UPF5QA</td>\n",
       "      <td>Amet Faucibus Ut PC</td>\n",
       "      <td>Iowa</td>\n",
       "      <td>Ap #845-8261 Tempor Ave</td>\n",
       "    </tr>\n",
       "    <tr>\n",
       "      <th>1</th>\n",
       "      <td>WBW59BSR4RP</td>\n",
       "      <td>Non Dui PC</td>\n",
       "      <td>Imo</td>\n",
       "      <td>P.O. Box 731, 5900 Facilisis Ave</td>\n",
       "    </tr>\n",
       "    <tr>\n",
       "      <th>2</th>\n",
       "      <td>XBV12KWI2UG</td>\n",
       "      <td>Auctor Inc.</td>\n",
       "      <td>Tabasco</td>\n",
       "      <td>Ap #434-5980 Luctus St.</td>\n",
       "    </tr>\n",
       "    <tr>\n",
       "      <th>3</th>\n",
       "      <td>XWJ89VNY8LX</td>\n",
       "      <td>Nisi Magna Limited</td>\n",
       "      <td>Wyoming</td>\n",
       "      <td>539-6014 Orci Av.</td>\n",
       "    </tr>\n",
       "    <tr>\n",
       "      <th>4</th>\n",
       "      <td>YSF61YRJ8KP</td>\n",
       "      <td>Euismod PC</td>\n",
       "      <td>Kujawsko-pomorskie</td>\n",
       "      <td>Ap #119-7283 Est Road</td>\n",
       "    </tr>\n",
       "  </tbody>\n",
       "</table>\n",
       "</div>"
      ],
      "text/plain": [
       "  id_establecimiento               nombre                area  \\\n",
       "0        EFE52UPF5QA  Amet Faucibus Ut PC                Iowa   \n",
       "1        WBW59BSR4RP           Non Dui PC                 Imo   \n",
       "2        XBV12KWI2UG          Auctor Inc.             Tabasco   \n",
       "3        XWJ89VNY8LX   Nisi Magna Limited             Wyoming   \n",
       "4        YSF61YRJ8KP           Euismod PC  Kujawsko-pomorskie   \n",
       "\n",
       "                       localizacion  \n",
       "0           Ap #845-8261 Tempor Ave  \n",
       "1  P.O. Box 731, 5900 Facilisis Ave  \n",
       "2           Ap #434-5980 Luctus St.  \n",
       "3                 539-6014 Orci Av.  \n",
       "4             Ap #119-7283 Est Road  "
      ]
     },
     "execution_count": 34,
     "metadata": {},
     "output_type": "execute_result"
    }
   ],
   "source": [
    "#Select all columns from establecimiento Table and save to a pandas DataFrame variable:\n",
    "\n",
    "Query= pd.read_sql_query('''SELECT * FROM establecimiento;''', database)\n",
    "\n",
    "df_establecimiento = pd.DataFrame(Query, columns=['id_establecimiento', 'nombre', 'area', 'localizacion'])\n",
    "df_establecimiento\n"
   ]
  }
 ],
 "metadata": {
  "interpreter": {
   "hash": "aee8b7b246df8f9039afb4144a1f6fd8d2ca17a180786b69acc140d282b71a49"
  },
  "kernelspec": {
   "display_name": "Python 3.9.13 64-bit",
   "language": "python",
   "name": "python3"
  },
  "language_info": {
   "codemirror_mode": {
    "name": "ipython",
    "version": 3
   },
   "file_extension": ".py",
   "mimetype": "text/x-python",
   "name": "python",
   "nbconvert_exporter": "python",
   "pygments_lexer": "ipython3",
   "version": "3.9.13"
  },
  "orig_nbformat": 4
 },
 "nbformat": 4,
 "nbformat_minor": 2
}
